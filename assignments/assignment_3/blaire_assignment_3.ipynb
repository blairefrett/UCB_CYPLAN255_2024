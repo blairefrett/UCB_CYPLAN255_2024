{
 "cells": [
  {
   "cell_type": "markdown",
   "metadata": {},
   "source": [
    "REMEMBER: FIRST CREATE A COPY OF THIS FILE WITH A UNIQUE NAME AND DO YOUR WORK THERE. AND MAKE SURE YOU COMMIT YOUR CHANGES TO THE `hw3_submissions` BRANCH."
   ]
  },
  {
   "cell_type": "markdown",
   "metadata": {},
   "source": [
    "# Assignment 3 | Cleaning and Exploring Data with Pandas\n",
    "\n"
   ]
  },
  {
   "cell_type": "markdown",
   "metadata": {},
   "source": [
    "<img src=\"data/scoreCard.jpg\" width=250>\n",
    "\n",
    "In this assignment, you will investigate restaurant food safety scores for restaurants in San Francisco. Above is a sample score card for a restaurant. The scores and violation information have been made available by the San Francisco Department of Public Health. "
   ]
  },
  {
   "cell_type": "markdown",
   "metadata": {},
   "source": [
    "## Loading Food Safety Data\n",
    "\n",
    "\n",
    "There are 2 files in the data directory:\n",
    "1. business.csv containing food establishments in San Francisco\n",
    "1. inspections.csv containing retaurant inspections records\n",
    "\n",
    "Let's start by loading them into Pandas dataframes.  One of the files, business.csv, has encoding (ISO-8859-1), so you will need to account for that when reading it."
   ]
  },
  {
   "cell_type": "markdown",
   "metadata": {},
   "source": [
    "### Question 1\n",
    "\n",
    "#### Question 1a\n",
    "Read the two files noted above into two pandas dataframes named `bus` and `ins`, respectively. Print the first 5 rows of each to inspect them.\n"
   ]
  },
  {
   "cell_type": "code",
   "execution_count": 1,
   "metadata": {},
   "outputs": [],
   "source": [
    "import pandas as pd"
   ]
  },
  {
   "cell_type": "code",
   "execution_count": 49,
   "metadata": {
    "tags": [
     "solution"
    ]
   },
   "outputs": [],
   "source": [
    "bus = pd.read_csv('data/businesses.csv', encoding='ISO-8859-1')\n",
    "ins = pd.read_csv('data/inspections.csv')"
   ]
  },
  {
   "cell_type": "code",
   "execution_count": 3,
   "metadata": {},
   "outputs": [
    {
     "data": {
      "text/html": [
       "<div>\n",
       "<style scoped>\n",
       "    .dataframe tbody tr th:only-of-type {\n",
       "        vertical-align: middle;\n",
       "    }\n",
       "\n",
       "    .dataframe tbody tr th {\n",
       "        vertical-align: top;\n",
       "    }\n",
       "\n",
       "    .dataframe thead th {\n",
       "        text-align: right;\n",
       "    }\n",
       "</style>\n",
       "<table border=\"1\" class=\"dataframe\">\n",
       "  <thead>\n",
       "    <tr style=\"text-align: right;\">\n",
       "      <th></th>\n",
       "      <th>business_id</th>\n",
       "      <th>name</th>\n",
       "      <th>address</th>\n",
       "      <th>city</th>\n",
       "      <th>state</th>\n",
       "      <th>postal_code</th>\n",
       "      <th>latitude</th>\n",
       "      <th>longitude</th>\n",
       "      <th>phone_number</th>\n",
       "    </tr>\n",
       "  </thead>\n",
       "  <tbody>\n",
       "    <tr>\n",
       "      <th>0</th>\n",
       "      <td>10</td>\n",
       "      <td>TIRAMISU KITCHEN</td>\n",
       "      <td>033 BELDEN PL</td>\n",
       "      <td>San Francisco</td>\n",
       "      <td>CA</td>\n",
       "      <td>94104</td>\n",
       "      <td>37.791116</td>\n",
       "      <td>-122.403816</td>\n",
       "      <td>+14154217044</td>\n",
       "    </tr>\n",
       "    <tr>\n",
       "      <th>1</th>\n",
       "      <td>19</td>\n",
       "      <td>NRGIZE LIFESTYLE CAFE</td>\n",
       "      <td>1200 VAN NESS AVE, 3RD FLOOR</td>\n",
       "      <td>San Francisco</td>\n",
       "      <td>CA</td>\n",
       "      <td>94109</td>\n",
       "      <td>37.786848</td>\n",
       "      <td>-122.421547</td>\n",
       "      <td>+14157763262</td>\n",
       "    </tr>\n",
       "    <tr>\n",
       "      <th>2</th>\n",
       "      <td>24</td>\n",
       "      <td>OMNI S.F. HOTEL - 2ND FLOOR PANTRY</td>\n",
       "      <td>500 CALIFORNIA ST, 2ND  FLOOR</td>\n",
       "      <td>San Francisco</td>\n",
       "      <td>CA</td>\n",
       "      <td>94104</td>\n",
       "      <td>37.792888</td>\n",
       "      <td>-122.403135</td>\n",
       "      <td>+14156779494</td>\n",
       "    </tr>\n",
       "    <tr>\n",
       "      <th>3</th>\n",
       "      <td>31</td>\n",
       "      <td>NORMAN'S ICE CREAM AND FREEZES</td>\n",
       "      <td>2801 LEAVENWORTH ST</td>\n",
       "      <td>San Francisco</td>\n",
       "      <td>CA</td>\n",
       "      <td>94133</td>\n",
       "      <td>37.807155</td>\n",
       "      <td>-122.419004</td>\n",
       "      <td>NaN</td>\n",
       "    </tr>\n",
       "    <tr>\n",
       "      <th>4</th>\n",
       "      <td>45</td>\n",
       "      <td>CHARLIE'S DELI CAFE</td>\n",
       "      <td>3202 FOLSOM ST</td>\n",
       "      <td>San Francisco</td>\n",
       "      <td>CA</td>\n",
       "      <td>94110</td>\n",
       "      <td>37.747114</td>\n",
       "      <td>-122.413641</td>\n",
       "      <td>+14156415051</td>\n",
       "    </tr>\n",
       "  </tbody>\n",
       "</table>\n",
       "</div>"
      ],
      "text/plain": [
       "   business_id                                name  \\\n",
       "0           10                    TIRAMISU KITCHEN   \n",
       "1           19               NRGIZE LIFESTYLE CAFE   \n",
       "2           24  OMNI S.F. HOTEL - 2ND FLOOR PANTRY   \n",
       "3           31      NORMAN'S ICE CREAM AND FREEZES   \n",
       "4           45                 CHARLIE'S DELI CAFE   \n",
       "\n",
       "                         address           city state postal_code   latitude  \\\n",
       "0                  033 BELDEN PL  San Francisco    CA       94104  37.791116   \n",
       "1   1200 VAN NESS AVE, 3RD FLOOR  San Francisco    CA       94109  37.786848   \n",
       "2  500 CALIFORNIA ST, 2ND  FLOOR  San Francisco    CA       94104  37.792888   \n",
       "3           2801 LEAVENWORTH ST   San Francisco    CA       94133  37.807155   \n",
       "4                3202 FOLSOM ST   San Francisco    CA       94110  37.747114   \n",
       "\n",
       "    longitude  phone_number  \n",
       "0 -122.403816  +14154217044  \n",
       "1 -122.421547  +14157763262  \n",
       "2 -122.403135  +14156779494  \n",
       "3 -122.419004           NaN  \n",
       "4 -122.413641  +14156415051  "
      ]
     },
     "execution_count": 3,
     "metadata": {},
     "output_type": "execute_result"
    }
   ],
   "source": [
    "bus.head()"
   ]
  },
  {
   "cell_type": "code",
   "execution_count": 4,
   "metadata": {},
   "outputs": [
    {
     "data": {
      "text/html": [
       "<div>\n",
       "<style scoped>\n",
       "    .dataframe tbody tr th:only-of-type {\n",
       "        vertical-align: middle;\n",
       "    }\n",
       "\n",
       "    .dataframe tbody tr th {\n",
       "        vertical-align: top;\n",
       "    }\n",
       "\n",
       "    .dataframe thead th {\n",
       "        text-align: right;\n",
       "    }\n",
       "</style>\n",
       "<table border=\"1\" class=\"dataframe\">\n",
       "  <thead>\n",
       "    <tr style=\"text-align: right;\">\n",
       "      <th></th>\n",
       "      <th>business_id</th>\n",
       "      <th>score</th>\n",
       "      <th>date</th>\n",
       "      <th>type</th>\n",
       "    </tr>\n",
       "  </thead>\n",
       "  <tbody>\n",
       "    <tr>\n",
       "      <th>0</th>\n",
       "      <td>10</td>\n",
       "      <td>82</td>\n",
       "      <td>20160503</td>\n",
       "      <td>routine</td>\n",
       "    </tr>\n",
       "    <tr>\n",
       "      <th>1</th>\n",
       "      <td>10</td>\n",
       "      <td>94</td>\n",
       "      <td>20140729</td>\n",
       "      <td>routine</td>\n",
       "    </tr>\n",
       "    <tr>\n",
       "      <th>2</th>\n",
       "      <td>10</td>\n",
       "      <td>92</td>\n",
       "      <td>20140114</td>\n",
       "      <td>routine</td>\n",
       "    </tr>\n",
       "    <tr>\n",
       "      <th>3</th>\n",
       "      <td>19</td>\n",
       "      <td>94</td>\n",
       "      <td>20160513</td>\n",
       "      <td>routine</td>\n",
       "    </tr>\n",
       "    <tr>\n",
       "      <th>4</th>\n",
       "      <td>19</td>\n",
       "      <td>94</td>\n",
       "      <td>20141110</td>\n",
       "      <td>routine</td>\n",
       "    </tr>\n",
       "  </tbody>\n",
       "</table>\n",
       "</div>"
      ],
      "text/plain": [
       "   business_id  score      date     type\n",
       "0           10     82  20160503  routine\n",
       "1           10     94  20140729  routine\n",
       "2           10     92  20140114  routine\n",
       "3           19     94  20160513  routine\n",
       "4           19     94  20141110  routine"
      ]
     },
     "execution_count": 4,
     "metadata": {},
     "output_type": "execute_result"
    }
   ],
   "source": [
    "ins.head()"
   ]
  },
  {
   "cell_type": "markdown",
   "metadata": {},
   "source": [
    "## Examining the Business data\n",
    "\n",
    "From its name alone, we expect the `businesses.csv` file to contain information about the restaurants. Let's investigate this dataset."
   ]
  },
  {
   "cell_type": "markdown",
   "metadata": {},
   "source": [
    "### Question 2\n",
    "\n",
    "#### Question 2a: How many records are there?"
   ]
  },
  {
   "cell_type": "code",
   "execution_count": 68,
   "metadata": {
    "scrolled": true,
    "tags": [
     "solution"
    ]
   },
   "outputs": [
    {
     "name": "stdout",
     "output_type": "stream",
     "text": [
      "Number of records: 6316\n"
     ]
    }
   ],
   "source": [
    "import csv\n",
    "\n",
    "with open('data/businesses.csv', encoding='ISO-8859-1') as csvfile:\n",
    "    reader = csv.reader(csvfile)\n",
    "    number_records = len(list(reader))\n",
    "    #print(number_records)\n",
    "    print(\"Number of records:\", number_records)"
   ]
  },
  {
   "cell_type": "markdown",
   "metadata": {},
   "source": [
    "#### Question 2b: How many unique business IDs are there?  "
   ]
  },
  {
   "cell_type": "code",
   "execution_count": 66,
   "metadata": {},
   "outputs": [
    {
     "name": "stdout",
     "output_type": "stream",
     "text": [
      "Number of Unique Business IDs: 6315\n"
     ]
    }
   ],
   "source": [
    "df = pd.read_csv('data/businesses.csv', encoding='ISO-8859-1')\n",
    "unique_ID = df['business_id'].nunique()\n",
    "#print(unique_ID)\n",
    "print('Number of Unique Business IDs:', unique_ID)\n",
    "\n",
    "\n"
   ]
  },
  {
   "cell_type": "markdown",
   "metadata": {},
   "source": [
    "#### Question 2c: What are the 5 most common businesses by name, and how many are there in San Francisco?"
   ]
  },
  {
   "cell_type": "code",
   "execution_count": 70,
   "metadata": {},
   "outputs": [
    {
     "name": "stdout",
     "output_type": "stream",
     "text": [
      "Top 5 Most Common Businesses: name\n",
      "STARBUCKS COFFEE              72\n",
      "PEET'S COFFEE & TEA           24\n",
      "MCDONALDS                     12\n",
      "SAN FRANCISCO SOUP COMPANY    11\n",
      "WALGREENS                     11\n",
      "Name: count, dtype: int64\n"
     ]
    }
   ],
   "source": [
    "df = pd.read_csv('data/businesses.csv', encoding='ISO-8859-1')\n",
    "SF_businesses = df[df['city']=='San Francisco']\n",
    "top_5_businesses = SF_businesses['name'].value_counts().head(5)\n",
    "#print(top_5_businesses)\n",
    "print('Top 5 Most Common Businesses:', top_5_businesses)"
   ]
  },
  {
   "cell_type": "code",
   "execution_count": 62,
   "metadata": {},
   "outputs": [
    {
     "name": "stdout",
     "output_type": "stream",
     "text": [
      "Total number of businesses in SF: 6315\n"
     ]
    }
   ],
   "source": [
    "df = pd.read_csv('data/businesses.csv', encoding='ISO-8859-1')\n",
    "SF_businesses = df[df['city']=='San Francisco']\n",
    "total_businesses = SF_businesses.shape[0]\n",
    "#print(total_businesses)\n",
    "print('Total number of businesses in SF:', total_businesses)"
   ]
  },
  {
   "cell_type": "markdown",
   "metadata": {
    "tags": [
     "written"
    ]
   },
   "source": [
    "## Zip code\n",
    "\n",
    "Next, let's  explore some of the variables in the business table. We begin by examining the postal code.\n",
    "\n",
    "### Question 3\n",
    "\n",
    "#### Question 3a\n",
    "How are the zip code values stored in python (i.e. data type)?\n",
    "\n",
    "To answer this you might want to examine a particular entry."
   ]
  },
  {
   "cell_type": "code",
   "execution_count": null,
   "metadata": {
    "tags": [
     "solution"
    ]
   },
   "outputs": [],
   "source": [
    "#i am guessing they are stored as a string, but i will double check"
   ]
  },
  {
   "cell_type": "code",
   "execution_count": 71,
   "metadata": {},
   "outputs": [
    {
     "name": "stdout",
     "output_type": "stream",
     "text": [
      "postal code data type 'postal_code' is: object\n"
     ]
    }
   ],
   "source": [
    "df = pd.read_csv('data/businesses.csv', encoding='ISO-8859-1')\n",
    "col_name = 'postal_code'\n",
    "data_type = df[col_name].dtype\n",
    "#print(f\"{data_type}\")\n",
    "print(f\"postal code data type '{col_name}' is: {data_type}\")"
   ]
  },
  {
   "cell_type": "code",
   "execution_count": null,
   "metadata": {},
   "outputs": [],
   "source": [
    "#not sure what object means here. perhaps it's because there are NaN values?"
   ]
  },
  {
   "cell_type": "markdown",
   "metadata": {},
   "source": [
    "#### Question 3b\n",
    "\n",
    "What are the unique values of postal_code?"
   ]
  },
  {
   "cell_type": "code",
   "execution_count": 76,
   "metadata": {
    "scrolled": false
   },
   "outputs": [
    {
     "name": "stdout",
     "output_type": "stream",
     "text": [
      "Number of Unique Postal Codes: 46\n"
     ]
    }
   ],
   "source": [
    "df = pd.read_csv('data/businesses.csv', encoding='ISO-8859-1')\n",
    "unique_postal_code = df['postal_code'].nunique()\n",
    "#print(unique_postal_code)\n",
    "print('Number of Unique Postal Codes:', unique_postal_code)"
   ]
  },
  {
   "cell_type": "markdown",
   "metadata": {},
   "source": [
    "#### Question 3c\n",
    "\n",
    "Let's say we decide to exclude the businesses that have no zipcode for our analysis (which might include food trucks for example).  Use the list of valid 5-digit zip codes below to create a new dataframe called bus_valid, with only businesses whose postal_codes show up in this list of valid zipcodes. How many businesses are there in this new dataframe?"
   ]
  },
  {
   "cell_type": "code",
   "execution_count": 73,
   "metadata": {},
   "outputs": [],
   "source": [
    "validZip = [\"94102\", \"94103\", \"94104\", \"94105\", \"94107\", \"94108\",\n",
    "            \"94109\", \"94110\", \"94111\", \"94112\", \"94114\", \"94115\",\n",
    "            \"94116\", \"94117\", \"94118\", \"94121\", \"94122\", \"94123\", \n",
    "            \"94124\", \"94127\", \"94131\", \"94132\", \"94133\", \"94134\"]"
   ]
  },
  {
   "cell_type": "code",
   "execution_count": 77,
   "metadata": {},
   "outputs": [
    {
     "name": "stdout",
     "output_type": "stream",
     "text": [
      "5999 businesses in data frame 'bus_valid'.\n"
     ]
    }
   ],
   "source": [
    "df = df.dropna(subset=['postal_code'])\n",
    "bus_valid = df[df['postal_code'].isin(validZip)]\n",
    "number_bus = len(bus_valid)\n",
    "#print(f\"{number_bus}\")\n",
    "print(f\"{number_bus} businesses in data frame 'bus_valid'.\")"
   ]
  },
  {
   "cell_type": "code",
   "execution_count": 78,
   "metadata": {},
   "outputs": [],
   "source": [
    "vb = bus[bus['postal_code'].isin(validZip)]\n"
   ]
  },
  {
   "cell_type": "markdown",
   "metadata": {},
   "source": [
    "## Latitude and Longitude\n",
    "\n",
    "Another aspect of the data we want to consider is the prevalence of missing values. If many records have missing values then we might be concerned about whether the nonmissing values are representative of the population.\n",
    "\n",
    "### Question 4\n",
    " \n",
    "Consider the longitude and latitude in the business DataFrame. \n",
    "\n",
    "#### Question 4a\n",
    "\n",
    "How many businesses are missing longitude values, working with only the businesses that are in the list of valid zipcodes?"
   ]
  },
  {
   "cell_type": "code",
   "execution_count": null,
   "metadata": {
    "tags": [
     "solution"
    ]
   },
   "outputs": [],
   "source": [
    "vb[pd.isnull(vb['longitude'])]\n",
    "#i am a bit confused by this code here. is vb valid business? I don't understand why pd is nested like that\n",
    "#is this code a way to condense and keep the code concise? "
   ]
  },
  {
   "cell_type": "code",
   "execution_count": 3,
   "metadata": {},
   "outputs": [],
   "source": [
    "import pandas as pd"
   ]
  },
  {
   "cell_type": "code",
   "execution_count": 5,
   "metadata": {},
   "outputs": [
    {
     "name": "stdout",
     "output_type": "stream",
     "text": [
      "2483\n"
     ]
    }
   ],
   "source": [
    "df = pd.read_csv('data/businesses.csv', encoding='ISO-8859-1')\n",
    "df = df.dropna(subset=['postal_code'])\n",
    "validZip = [\"94102\", \"94103\", \"94104\", \"94105\", \"94107\", \"94108\",\n",
    "            \"94109\", \"94110\", \"94111\", \"94112\", \"94114\", \"94115\",\n",
    "            \"94116\", \"94117\", \"94118\", \"94121\", \"94122\", \"94123\", \n",
    "            \"94124\", \"94127\", \"94131\", \"94132\", \"94133\", \"94134\"]\n",
    "\n",
    "bus_valid = df[df['postal_code'].isin(validZip)]\n",
    "missing_long = bus_valid['longitude'].isnull().sum()\n",
    "print(missing_long)"
   ]
  },
  {
   "cell_type": "markdown",
   "metadata": {},
   "source": [
    "#### Question 4b\n",
    "\n",
    "Create a new dataframe with one row for each valid zipcode. The dataframe should include the following three columns:\n",
    "\n",
    "1. `postal_code`: Contains the zip codes in the `validZip` variable above.\n",
    "2. `null_lon`: The number of businesses in that zipcode with missing `longitude` values.\n",
    "3. `not_null_lon`: The number of businesses without missing `longitude` values."
   ]
  },
  {
   "cell_type": "code",
   "execution_count": 30,
   "metadata": {},
   "outputs": [],
   "source": [
    "import pandas as pd"
   ]
  },
  {
   "cell_type": "code",
   "execution_count": 31,
   "metadata": {
    "scrolled": false
   },
   "outputs": [],
   "source": [
    "df = pd.read_csv('data/businesses.csv', encoding='ISO-8859-1')\n",
    "df = df.dropna(subset=['postal_code'])\n",
    "validZip = [\"94102\", \"94103\", \"94104\", \"94105\", \"94107\", \"94108\",\n",
    "            \"94109\", \"94110\", \"94111\", \"94112\", \"94114\", \"94115\",\n",
    "            \"94116\", \"94117\", \"94118\", \"94121\", \"94122\", \"94123\", \n",
    "            \"94124\", \"94127\", \"94131\", \"94132\", \"94133\", \"94134\"]"
   ]
  },
  {
   "cell_type": "code",
   "execution_count": 32,
   "metadata": {},
   "outputs": [],
   "source": [
    "zip_df = pd.DataFrame({'postal_code': validZip})\n",
    "null_lon_counts = []\n",
    "not_null_lon_counts = []"
   ]
  },
  {
   "cell_type": "code",
   "execution_count": 33,
   "metadata": {},
   "outputs": [
    {
     "name": "stdout",
     "output_type": "stream",
     "text": [
      "   postal_code  null_lon  not_null_lon\n",
      "0        94102       196           262\n",
      "1        94103       252           306\n",
      "2        94104        59            74\n",
      "3        94105       100           126\n",
      "4        94107       247           204\n",
      "5        94108        82           142\n",
      "6        94109       146           237\n",
      "7        94110       251           334\n",
      "8        94111       115           167\n",
      "9        94112        59           131\n",
      "10       94114       108           122\n",
      "11       94115        76           162\n",
      "12       94116        35            58\n",
      "13       94117        67           130\n",
      "14       94118       100           143\n",
      "15       94121        55           106\n",
      "16       94122       123           147\n",
      "17       94123        53           116\n",
      "18       94124        88            76\n",
      "19       94127        28            43\n",
      "20       94131        14            34\n",
      "21       94132        65            69\n",
      "22       94133       135           282\n",
      "23       94134        29            45\n"
     ]
    }
   ],
   "source": [
    "for zipcode in valid_zip:\n",
    "    zip_2 = df[df['postal_code'] == zipcode]\n",
    "    null_lon_count = zip_2['longitude'].isnull().sum()\n",
    "    not_null_lon_count = len(zip_2) - null_lon_count\n",
    "    null_lon_counts.append(null_lon_count)\n",
    "    not_null_lon_counts.append(not_null_lon_count)\n",
    "\n",
    "zip_df['null_lon'] = null_lon_counts\n",
    "zip_df['not_null_lon'] = not_null_lon_counts\n",
    "\n",
    "print(zip_df)"
   ]
  },
  {
   "cell_type": "markdown",
   "metadata": {},
   "source": [
    "#### 4c. Do any zip codes appear to have more than their 'fair share' of missing longitude? \n",
    "\n",
    "To answer this, you will want to compute the proportion of missing longitude values for each zip code, and print the proportion missing longitude, and print the top five zipcodes in descending order of proportion missing postal_code.\n"
   ]
  },
  {
   "cell_type": "code",
   "execution_count": 37,
   "metadata": {},
   "outputs": [
    {
     "name": "stdout",
     "output_type": "stream",
     "text": [
      "postal_code\n",
      "94103    0.099921\n",
      "94110    0.099524\n",
      "94107    0.097938\n",
      "94102    0.077716\n",
      "94109    0.057891\n",
      "Name: proportion, dtype: float64\n"
     ]
    }
   ],
   "source": [
    "df = pd.read_csv('data/businesses.csv', encoding='ISO-8859-1')\n",
    "df = df.dropna(subset=['postal_code'])\n",
    "missing_lon = df[df['longitude'].isnull()]['postal_code'].value_counts(normalize=True)\n",
    "print(missing_lon.head())"
   ]
  },
  {
   "cell_type": "markdown",
   "metadata": {},
   "source": [
    "# Investigate the inspection data\n",
    "\n",
    "Let's now turn to the inspection DataFrame. Earlier, we found that `ins` has 4 columns, these are named `business_id`, `score`, `date` and `type`.  In this section, we determine the granularity of `ins` and investigate the kinds of information provided for the inspections. \n",
    "\n",
    "### Question 5\n",
    "\n",
    "#### Question 5a\n",
    "As with the business data, assess whether there is one inspection record for each business, by counting how many rows are in the data and how many unique businesses there are in the data. If they are exactly the same number, it means there is only one inspection per business, clearly."
   ]
  },
  {
   "cell_type": "code",
   "execution_count": 47,
   "metadata": {
    "tags": [
     "solution"
    ]
   },
   "outputs": [
    {
     "ename": "SyntaxError",
     "evalue": "invalid syntax (448241739.py, line 1)",
     "output_type": "error",
     "traceback": [
      "\u001b[0;36m  Cell \u001b[0;32mIn[47], line 1\u001b[0;36m\u001b[0m\n\u001b[0;31m    ins = pd.read_csv('data/inspections.csv')rows = len(df)\u001b[0m\n\u001b[0m                                             ^\u001b[0m\n\u001b[0;31mSyntaxError\u001b[0m\u001b[0;31m:\u001b[0m invalid syntax\n"
     ]
    }
   ],
   "source": []
  },
  {
   "cell_type": "code",
   "execution_count": 51,
   "metadata": {},
   "outputs": [
    {
     "name": "stdout",
     "output_type": "stream",
     "text": [
      "one inspection\n"
     ]
    }
   ],
   "source": [
    "#alternativly, using the count function \n",
    "ins = pd.read_csv('data/inspections.csv')\n",
    "business_counts = df['business_id'].value_counts()\n",
    "unique_bus= df['business_id'].nunique()\n",
    "if business_counts.max() == 1:\n",
    "    print(\"one inspection\")\n",
    "else:\n",
    "    print(\"multiple inspections\")\n"
   ]
  },
  {
   "cell_type": "markdown",
   "metadata": {},
   "source": [
    "#### Question 5b\n",
    "\n",
    "What values does `type` take on? How many occurrences of each value is in the DataFrame? Create a new dataframe named `ins2` by copying `ins` and keeping only records with values of `type` that occur more than 10 times in the original table. In other words, eliminate records that have values of `type` that occur rarely (< 10 times). Check the result to make sure rare types are eliminated."
   ]
  },
  {
   "cell_type": "code",
   "execution_count": 58,
   "metadata": {
    "tags": [
     "solution",
     "written"
    ]
   },
   "outputs": [
    {
     "name": "stdout",
     "output_type": "stream",
     "text": [
      "type\n",
      "routine    15429\n",
      "Name: count, dtype: int64\n"
     ]
    }
   ],
   "source": [
    "import pandas as pd\n",
    "ins = pd.read_csv('data/inspections.csv')\n",
    "type_counts = ins['type'].value_counts()\n",
    "type_not_rare = type_counts[type_counts > 10].index\n",
    "ins2 = ins[ins['type'].isin(type_not_rare)].copy()\n",
    "print(ins2['type'].value_counts())"
   ]
  },
  {
   "cell_type": "code",
   "execution_count": 59,
   "metadata": {},
   "outputs": [
    {
     "name": "stdout",
     "output_type": "stream",
     "text": [
      "type\n",
      "routine    15429\n",
      "Name: count, dtype: int64\n"
     ]
    }
   ],
   "source": [
    "print(ins2['type'].value_counts())"
   ]
  },
  {
   "cell_type": "markdown",
   "metadata": {},
   "source": [
    "#### Question 5c\n",
    "\n",
    "Since the data was stored in a .csv file, the dates are formatted as strings such as `20160503`. Once we read in the data, we would like to have dates in an appropriate format for analysis. Add a new column called `year` by capturing the first four characters of the date column. \n",
    "\n",
    "Hint: we have seen multiple ways of doing this in class, includings `str` operations, `lambda` functions, `datetime` operations, and others. Choose the method that works best for you :)"
   ]
  },
  {
   "cell_type": "code",
   "execution_count": 61,
   "metadata": {},
   "outputs": [
    {
     "name": "stdout",
     "output_type": "stream",
     "text": [
      "int64\n"
     ]
    }
   ],
   "source": [
    "#ins = pd.read_csv('data/inspections.csv')\n",
    "#ins['year'] = ins['date'].str[:4]\n",
    "#print(ins.head())\n",
    "#i am getting an error here because date is perhaps not in string form?\n",
    "print(ins['date'].dtype)\n",
    "#so the dates are actually in int64 and I need to convert to str?"
   ]
  },
  {
   "cell_type": "code",
   "execution_count": 66,
   "metadata": {},
   "outputs": [
    {
     "name": "stdout",
     "output_type": "stream",
     "text": [
      "   business_id  score      date     type  year\n",
      "0           10     82  20160503  routine  2016\n",
      "1           10     94  20140729  routine  2014\n",
      "2           10     92  20140114  routine  2014\n",
      "3           19     94  20160513  routine  2016\n",
      "4           19     94  20141110  routine  2014\n"
     ]
    }
   ],
   "source": [
    "ins = pd.read_csv('data/inspections.csv')\n",
    "ins['date'] = ins['date'].astype(str)\n",
    "ins['year'] = ins['date'].str[:4]\n",
    "print(ins.head())"
   ]
  },
  {
   "cell_type": "markdown",
   "metadata": {
    "tags": [
     "written"
    ]
   },
   "source": [
    "#### Question 5d\n",
    "\n",
    "What range of years is covered in this data set? Are there roughly same number of inspections each year? Try dropping records for any years with less than 50 inspections and store the result in a new dataframe named `ins3`."
   ]
  },
  {
   "cell_type": "code",
   "execution_count": 68,
   "metadata": {
    "scrolled": true,
    "tags": [
     "solution",
     "written"
    ]
   },
   "outputs": [
    {
     "name": "stdout",
     "output_type": "stream",
     "text": [
      "2013 2016\n"
     ]
    }
   ],
   "source": [
    "import pandas as pd\n",
    "ins = pd.read_csv('data/inspections.csv')\n",
    "ins['date'] = ins['date'].astype(str)\n",
    "ins['year'] = ins['date'].str[:4]\n",
    "min_year = ins['year'].min()\n",
    "max_year = ins['year'].max()\n",
    "print(min_year, max_year)\n",
    "#4 years total "
   ]
  },
  {
   "cell_type": "code",
   "execution_count": 70,
   "metadata": {},
   "outputs": [
    {
     "name": "stdout",
     "output_type": "stream",
     "text": [
      "year\n",
      "2013      38\n",
      "2014    5629\n",
      "2015    3923\n",
      "2016    5840\n",
      "Name: count, dtype: int64\n"
     ]
    }
   ],
   "source": [
    "inspections_each_year = ins['year'].value_counts().sort_index()\n",
    "print(inspections_each_year)\n",
    "#here are the number of inspections each year from 2013 to 2016"
   ]
  },
  {
   "cell_type": "code",
   "execution_count": 85,
   "metadata": {},
   "outputs": [
    {
     "name": "stdout",
     "output_type": "stream",
     "text": [
      "ins3:       business_id  score      date     type  year\n",
      "534           695     96  20131231  routine  2013\n",
      "761          1043     98  20131226  routine  2013\n",
      "804          1124     92  20131230  routine  2013\n",
      "1034         1458     72  20131227  routine  2013\n",
      "1680         2245     91  20131227  routine  2013\n"
     ]
    }
   ],
   "source": [
    "less_than_50_ins = inspections_each_year[inspections_each_year < 50].index\n",
    "ins3 = ins[ins['year'].isin(less_than_50_ins)].copy()\n",
    "print(\"ins3:\", ins3.head())"
   ]
  },
  {
   "cell_type": "markdown",
   "metadata": {},
   "source": [
    "Let's examine only the inspections for one year: 2016. This puts businesses on a more equal footing because [inspection guidelines](https://www.sfdph.org/dph/eh/Food/Inspections.asp) generally refer to how many inspections should occur in a given year."
   ]
  },
  {
   "cell_type": "code",
   "execution_count": 86,
   "metadata": {},
   "outputs": [
    {
     "name": "stdout",
     "output_type": "stream",
     "text": [
      "Empty DataFrame\n",
      "Columns: [business_id, score, date, type, year]\n",
      "Index: []\n"
     ]
    }
   ],
   "source": [
    "ins_2016 = ins3[ins3['year'] == '2016']\n",
    "print(ins_2016.head())\n",
    "#no inspections in 2016???"
   ]
  },
  {
   "cell_type": "code",
   "execution_count": 87,
   "metadata": {},
   "outputs": [
    {
     "name": "stdout",
     "output_type": "stream",
     "text": [
      "['2013']\n"
     ]
    }
   ],
   "source": [
    "print(ins3['year'].unique())\n",
    "#does this mean that the only year with inspections is 2013?"
   ]
  },
  {
   "cell_type": "markdown",
   "metadata": {},
   "source": [
    "### Question 6\n",
    "\n",
    "#### Question 6a\n",
    "\n",
    "Merge the business and 2016 inspections data, keeping all businesses regardless of whether they show up in the inspections file. Show the first several rows of the resulting dataframe."
   ]
  },
  {
   "cell_type": "code",
   "execution_count": 89,
   "metadata": {
    "scrolled": true
   },
   "outputs": [],
   "source": [
    "business = pd.read_csv('data/businesses.csv', encoding='ISO-8859-1')\n",
    "ins_2016 = pd.read_csv('data/inspections.csv')\n",
    "ins_2016['date'] = ins_2016['date'].astype(str)\n",
    "#have to convert from int64 to str"
   ]
  },
  {
   "cell_type": "code",
   "execution_count": 93,
   "metadata": {},
   "outputs": [
    {
     "name": "stdout",
     "output_type": "stream",
     "text": [
      "   business_id                                name  \\\n",
      "0           10                    TIRAMISU KITCHEN   \n",
      "1           19               NRGIZE LIFESTYLE CAFE   \n",
      "2           24  OMNI S.F. HOTEL - 2ND FLOOR PANTRY   \n",
      "3           24  OMNI S.F. HOTEL - 2ND FLOOR PANTRY   \n",
      "4           31      NORMAN'S ICE CREAM AND FREEZES   \n",
      "5           45                 CHARLIE'S DELI CAFE   \n",
      "6           45                 CHARLIE'S DELI CAFE   \n",
      "7           48                          ART'S CAFE   \n",
      "8           50                          SUSHI ZONE   \n",
      "9           54                 RHODA GOLDMAN PLAZA   \n",
      "\n",
      "                         address           city state postal_code   latitude  \\\n",
      "0                  033 BELDEN PL  San Francisco    CA       94104  37.791116   \n",
      "1   1200 VAN NESS AVE, 3RD FLOOR  San Francisco    CA       94109  37.786848   \n",
      "2  500 CALIFORNIA ST, 2ND  FLOOR  San Francisco    CA       94104  37.792888   \n",
      "3  500 CALIFORNIA ST, 2ND  FLOOR  San Francisco    CA       94104  37.792888   \n",
      "4           2801 LEAVENWORTH ST   San Francisco    CA       94133  37.807155   \n",
      "5                3202 FOLSOM ST   San Francisco    CA       94110  37.747114   \n",
      "6                3202 FOLSOM ST   San Francisco    CA       94110  37.747114   \n",
      "7                 747 IRVING ST   San Francisco    CA       94122  37.764013   \n",
      "8              1815  MARKET ST.   San Francisco    CA       94103  37.771437   \n",
      "9                  2180 POST ST   San Francisco    CA       94115  37.784626   \n",
      "\n",
      "    longitude  phone_number  score      date     type  year  \n",
      "0 -122.403816  +14154217044   82.0  20160503  routine  2016  \n",
      "1 -122.421547  +14157763262   94.0  20160513  routine  2016  \n",
      "2 -122.403135  +14156779494   98.0  20161005  routine  2016  \n",
      "3 -122.403135  +14156779494   96.0  20160311  routine  2016  \n",
      "4 -122.419004           NaN   84.0  20160816  routine  2016  \n",
      "5 -122.413641  +14156415051   84.0  20160614  routine  2016  \n",
      "6 -122.413641  +14156415051   78.0  20160104  routine  2016  \n",
      "7 -122.465749  +14156657440   94.0  20160630  routine  2016  \n",
      "8 -122.423892  +14156211114   80.0  20160614  routine  2016  \n",
      "9 -122.437734  +14153455060    NaN       NaN      NaN   NaN  \n"
     ]
    }
   ],
   "source": [
    "ins_2016['year'] = ins_2016['date'].str[:4]\n",
    "bus_ins_merge = pd.merge(business, ins_2016[ins_2016['year'] == '2016'],\n",
    "                       on='business_id', how='left')\n",
    "\n",
    "print(bus_ins_merge.head(10))"
   ]
  },
  {
   "cell_type": "markdown",
   "metadata": {},
   "source": [
    "#### Question 6b\n",
    "Print the 20 lowest rated businesses names, their addresses, and their ratings."
   ]
  },
  {
   "cell_type": "code",
   "execution_count": 95,
   "metadata": {},
   "outputs": [
    {
     "name": "stdout",
     "output_type": "stream",
     "text": [
      "                             name              address  score\n",
      "4892      GOLDEN RIVER RESTAURANT     5827 GEARY BLVD    52.0\n",
      "7325                    POKI TIME     2101 LOMBARD ST    55.0\n",
      "6281                 CRAZY PEPPER   2257 SAN JOSE AVE    55.0\n",
      "4873                   UNCLE CAFE       65 WAVERLY PL    55.0\n",
      "3008             HING WANG BAKERY        339 JUDAH ST    56.0\n",
      "5627                   GOLDEN WOK   295 B ORIZABA AVE    56.0\n",
      "5383                   TOP'S CAFE  2460 SAN BRUNO AVE    57.0\n",
      "6067    L & G VIETNAMESE SANDWICH         602 EDDY ST    57.0\n",
      "836                  RED A BAKERY      634 CLEMENT ST    57.0\n",
      "4209      SAN TUNG RESTAURANT LLC      1031 IRVING ST    57.0\n",
      "549           MA'S DIM SUM & CAFE      1315 POWELL ST    57.0\n",
      "4903  NEW GARDEN RESTAURANT, INC.       716 KEARNY ST    57.0\n",
      "6645    KOBANI MEDITERANEAN GRILL       3242 SCOTT ST    58.0\n",
      "624           JOANIE'S DINER INC.   1329 COLUMBUS AVE    59.0\n",
      "6938         PAK NAM THAI CUISINE       655 LARKIN ST    59.0\n",
      "3563                  JADE GARDEN      3608 BALBOA ST    59.0\n",
      "4234                        ITHAI         720 POST ST    59.0\n",
      "6151          VALLARTA'S TACO BAR     2022 MISSION ST    60.0\n",
      "4850             HONG KONG LOUNGE     5322 GEARY BLVD    60.0\n",
      "5013                 WOLFES LUNCH        1220 16TH ST    60.0\n"
     ]
    }
   ],
   "source": [
    "lowest_rated = bus_ins_merge.sort_values(by='score', ascending=True)\n",
    "lowest_rated_20 = lowest_rated.head(20)\n",
    "print(lowest_rated_20[['name', 'address', 'score']])\n",
    "#here are the 20 lowest rated places"
   ]
  },
  {
   "cell_type": "markdown",
   "metadata": {},
   "source": [
    "## Done!\n",
    "\n",
    "Now commit this notebook to your `hw3_submissions` branch, push it to your GitHub repo, and open a PR!"
   ]
  }
 ],
 "metadata": {
  "anaconda-cloud": {},
  "kernelspec": {
   "display_name": "Python 3 (ipykernel)",
   "language": "python",
   "name": "python3"
  },
  "language_info": {
   "codemirror_mode": {
    "name": "ipython",
    "version": 3
   },
   "file_extension": ".py",
   "mimetype": "text/x-python",
   "name": "python",
   "nbconvert_exporter": "python",
   "pygments_lexer": "ipython3",
   "version": "3.11.5"
  },
  "toc": {
   "base_numbering": 1,
   "nav_menu": {},
   "number_sections": false,
   "sideBar": true,
   "skip_h1_title": false,
   "title_cell": "Table of Contents",
   "title_sidebar": "Contents",
   "toc_cell": false,
   "toc_position": {},
   "toc_section_display": true,
   "toc_window_display": false
  }
 },
 "nbformat": 4,
 "nbformat_minor": 2
}
